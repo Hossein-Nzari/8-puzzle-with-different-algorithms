{
 "cells": [
  {
   "attachments": {},
   "cell_type": "markdown",
   "metadata": {},
   "source": [
    "ابتدا کتاب خانه های مورد نظر برای اندازه گیری زمان مصرفی و فضای اشغال شده را ایمپورت می‌کنیم"
   ]
  },
  {
   "cell_type": "code",
   "execution_count": 1,
   "metadata": {},
   "outputs": [],
   "source": [
    "import time\n",
    "import tracemalloc"
   ]
  },
  {
   "attachments": {},
   "cell_type": "markdown",
   "metadata": {},
   "source": [
    "سپس کلاسی میسازیم تا اطلاعات ورودی که داده می‌شود را گرفته و اطلاعات مورد نیاز مانند محاسبه هیوریستیک یا سایر موارد را انجام دهد"
   ]
  },
  {
   "cell_type": "code",
   "execution_count": 32,
   "metadata": {},
   "outputs": [],
   "source": [
    "class State:\n",
    "\n",
    "    def __init__(self, state_list):\n",
    "        self.state = state_list\n",
    "        self.children, self.children_moves = self.available_moves()\n",
    "        self.parent = None\n",
    "        self.gn = 0\n",
    "        self.hn = 0\n",
    "        self.gn = 0\n",
    "        self.depth = 0\n",
    "    \n",
    "    def get_depth(self):\n",
    "        self.depth = self.parent.depth + 1\n",
    "            \n",
    "    def calculate_gn(self):\n",
    "        self.gn = self.parent.gn + 1\n",
    "\n",
    "    def calculate_fn(self):\n",
    "        self.fn = self.gn + self.hn\n",
    "\n",
    "    def calculate_hn_misplaced(self, state):\n",
    "        #using number of misplaced tiles\n",
    "        result = 0\n",
    "        for i in range(len(self.state)):\n",
    "            if self.state[i] != i+1:\n",
    "                result += 1\n",
    "        if self.state[8] == 0:\n",
    "            result -= 1\n",
    "        self.hn = result\n",
    "    \n",
    "    def calculate_hn(self, state):\n",
    "        #using manhattan distance\n",
    "        dis = 0\n",
    "        for i in range(len(self.state)):\n",
    "            dis += abs(i//3 - (self.state[i]-1)//3) + abs(i%3 - (self.state[i]-1)%3)\n",
    "        self.hn = dis\n",
    "\n",
    "    def available_moves(self):\n",
    "        # find available moves (children) of a state\n",
    "        result = list()\n",
    "        children_moves = {}\n",
    "        index_of_0 = self.state.index(0)\n",
    "        up = [0,1,2]\n",
    "        down = [6,7,8]\n",
    "        right = [2,5,8]\n",
    "        left = [0,3,6]\n",
    "        x = self.state.copy()\n",
    "        if index_of_0 not in up:\n",
    "            x[index_of_0-3], x[index_of_0] = self.state[index_of_0], self.state[index_of_0-3]\n",
    "            result.append(x)\n",
    "            children_moves[str(x)] = \"↑\"\n",
    "        x = self.state.copy()\n",
    "        if index_of_0 not in down:\n",
    "            x[index_of_0+3], x[index_of_0] = self.state[index_of_0], self.state[index_of_0+3]\n",
    "            result.append(x)\n",
    "            children_moves[str(x)] = \"↓\"\n",
    "        x = self.state.copy()\n",
    "        if index_of_0 not in left:\n",
    "            x[index_of_0-1], x[index_of_0] = self.state[index_of_0], self.state[index_of_0-1]\n",
    "            result.append(x)\n",
    "            children_moves[str(x)] = \"←\"\n",
    "        x = self.state.copy()\n",
    "        if index_of_0 not in right:\n",
    "            x[index_of_0+1], x[index_of_0] = self.state[index_of_0], self.state[index_of_0+1]\n",
    "            result.append(x)\n",
    "            children_moves[str(x)] = \"→\"\n",
    "        return result, children_moves\n",
    "\n",
    "    def __eq__(self, other):\n",
    "        return self.state == other.state\n",
    "    \n",
    "    def __repr__(self) -> str:\n",
    "        return str(self.state)\n",
    "goal = State([1,2,3,4,5,6,7,8,0])"
   ]
  },
  {
   "attachments": {},
   "cell_type": "markdown",
   "metadata": {},
   "source": [
    "در این تابع به ازای تمامی مثال های قرار گرفته در فایل سوال به اجرای الگوریتم و دادن خروجی می‌پردازد"
   ]
  },
  {
   "cell_type": "code",
   "execution_count": 3,
   "metadata": {},
   "outputs": [],
   "source": [
    "def print_output(func):\n",
    "    # Only should be used with A*, BFS, DFS, UCS (NOT IDS)\n",
    "    with open(\"Assignment 2 - Examples.txt\") as file:\n",
    "        examples = file.read()\n",
    "    for i in range(len(examples)):\n",
    "        list1=[]\n",
    "        if examples[i] == \"{\":\n",
    "            i += 1\n",
    "            while examples[i] != \"}\":\n",
    "                if examples[i] != ',' and examples[i] != ' ':\n",
    "                    list1.append(int(examples[i]))\n",
    "                i += 1\n",
    "            find_route(func(State(list1),0), State(list1))\n",
    "            print('\\n')\n"
   ]
  },
  {
   "attachments": {},
   "cell_type": "markdown",
   "metadata": {},
   "source": [
    "این تابع با توجه به نود های بررسی شده تا انتهای مسیر دوباره به عقب برگشته و انتخابی که نود والد آن نود انجام داده تا به نود فرزند برسد را ذخیره کرده تا در نهایت مسیر درست از ابتدا تا رسیدن به استیت هدف را به دست بی‌آوریم"
   ]
  },
  {
   "cell_type": "code",
   "execution_count": 4,
   "metadata": {},
   "outputs": [],
   "source": [
    "def find_route(visited, start_state):\n",
    "    route = {}\n",
    "    path_state = visited[-1]\n",
    "    while path_state != start_state:\n",
    "        route[str(path_state)] = path_state.parent.children_moves[str(path_state)]\n",
    "        path_state = path_state.parent\n",
    "    print(\" Steps =\", len(route.values()),\"\\n\",start_state,', '.join(list(route.values())[::-1]))"
   ]
  },
  {
   "attachments": {},
   "cell_type": "markdown",
   "metadata": {},
   "source": [
    "در تابع بعد با توجه به مقادیری که برای f(n) تولید می‌شود اندازه آن ها به دست می‌آید و با ترتیب وارد صف می‌شوند تا در الگوریتم A* استفاده شوند\n",
    "سپس الگوریتم A* نوشته شده که در آن در ابتدا و انتها زمان و مموری را اندازه گرفته و در اخر آن را خروجی می‌دهیم"
   ]
  },
  {
   "cell_type": "code",
   "execution_count": 5,
   "metadata": {},
   "outputs": [],
   "source": [
    "def append_in_order(queue,state):\n",
    "    # To append in the list according to fn\n",
    "    result = 0\n",
    "    for s in queue:\n",
    "        if s.fn > state.fn:\n",
    "            break\n",
    "        result +=1\n",
    "    queue.insert(result, state)\n",
    "    return queue\n",
    "\n",
    "def A_Star(state, checker):\n",
    "    exceeding_time = 120\n",
    "    start = time.perf_counter()\n",
    "    start_space = tracemalloc.start()\n",
    "    queue = [state]\n",
    "    visited = []\n",
    "    while queue:\n",
    "        time_passed = time.perf_counter()-start > exceeding_time\n",
    "        if time_passed:\n",
    "            print(\"Time limit exceeded!\\n\")\n",
    "            checker = 1\n",
    "            break\n",
    "        expanded = queue.pop(0)\n",
    "        if expanded == goal:\n",
    "            visited.append(expanded)\n",
    "            break\n",
    "        for x in expanded.children:\n",
    "            child = State(x)\n",
    "            child.parent = expanded\n",
    "            child.calculate_gn()\n",
    "            child.calculate_hn(goal)\n",
    "            child.calculate_fn()\n",
    "            if child not in visited:\n",
    "                append_in_order(queue, child)\n",
    "                visited.append(child)\n",
    "    memory = tracemalloc.get_traced_memory()[1]\n",
    "    end_space = tracemalloc.stop()\n",
    "    end = time.perf_counter()\n",
    "    if checker == 0:\n",
    "        print(' Time:',(end-start),\"secs\")\n",
    "        print(' Memory:',memory,\"bytes\")\n",
    "    return visited"
   ]
  },
  {
   "attachments": {},
   "cell_type": "markdown",
   "metadata": {},
   "source": [
    "پیاده سازی الگوریتم BFS\n",
    "در الگوریتم ها ورودی چکر تنها برای بررسی چاپ یا عدم چاپ خروجی است."
   ]
  },
  {
   "cell_type": "code",
   "execution_count": 33,
   "metadata": {},
   "outputs": [],
   "source": [
    "def BFS(state, checker):\n",
    "    exceeding_time = 120\n",
    "    start = time.perf_counter()\n",
    "    start_space = tracemalloc.start()\n",
    "    queue = [state]\n",
    "    visited = []\n",
    "    while queue:\n",
    "        time_passed = time.perf_counter()-start > exceeding_time\n",
    "        if time_passed:\n",
    "            print(\"Time limit exceeded!\\n\")\n",
    "            checker = 1\n",
    "            break\n",
    "        expanded = queue.pop(0)\n",
    "        if expanded == goal:\n",
    "            visited.append(expanded)\n",
    "            break\n",
    "        for x in expanded.children:\n",
    "            child = State(x)\n",
    "            child.parent = expanded\n",
    "            if child not in visited:\n",
    "                visited.append(child)\n",
    "                queue.append(child)\n",
    "    memory = tracemalloc.get_traced_memory()[1]\n",
    "    end_space = tracemalloc.stop()\n",
    "    end = time.perf_counter()\n",
    "    if checker == 0:\n",
    "        print(' Time:',(end-start),\"secs\")\n",
    "        print(' Memory:',memory,\"bytes\")\n",
    "    return visited"
   ]
  },
  {
   "attachments": {},
   "cell_type": "markdown",
   "metadata": {},
   "source": [
    "پیاده سازی الگوریتم DFS"
   ]
  },
  {
   "cell_type": "code",
   "execution_count": 34,
   "metadata": {},
   "outputs": [],
   "source": [
    "def DFS(state, checker, max_depth=20):\n",
    "    exceeding_time = 120\n",
    "    start = time.perf_counter()\n",
    "    start_space = tracemalloc.start()\n",
    "    queue = [state]\n",
    "    visited = []\n",
    "    while queue:\n",
    "        time_passed = time.perf_counter()-start > exceeding_time\n",
    "        if time_passed:\n",
    "            print(\"Time limit exceeded!\\n\")\n",
    "            checker = 1\n",
    "            break\n",
    "        expanded = queue.pop()\n",
    "        if expanded == goal:\n",
    "            visited.append(expanded)\n",
    "            break\n",
    "        if expanded.depth < max_depth:\n",
    "            for x in expanded.children:\n",
    "                child = State(x)\n",
    "                child.parent = expanded\n",
    "                child.get_depth()\n",
    "                if child not in visited:\n",
    "                    visited.append(child)\n",
    "                    queue.insert(0,child)\n",
    "    memory = tracemalloc.get_traced_memory()[1]\n",
    "    end_space = tracemalloc.stop()\n",
    "    end = time.perf_counter()\n",
    "    if checker == 0:\n",
    "        print(' Time:',(end-start),\"secs\")\n",
    "        print(' Memory:',memory,\"bytes\")\n",
    "    return visited"
   ]
  },
  {
   "attachments": {},
   "cell_type": "markdown",
   "metadata": {},
   "source": [
    "پیاده سازی الگوریتم IDS"
   ]
  },
  {
   "cell_type": "code",
   "execution_count": 35,
   "metadata": {},
   "outputs": [],
   "source": [
    "def IDS(state):\n",
    "    start = time.perf_counter()\n",
    "    start_space = tracemalloc.start()\n",
    "    for depth in range(1, 30):\n",
    "        print(\" Depth: \",depth)\n",
    "        result = DFS(state,1,depth)\n",
    "        if result[-1] == goal:\n",
    "            break\n",
    "    memory = tracemalloc.get_traced_memory()[1]\n",
    "    end_space = tracemalloc.stop()\n",
    "    end = time.perf_counter()\n",
    "    print(' Time:',(end-start),\"secs\")\n",
    "    print(' Memory:',memory,\"bytes\")\n",
    "    return result"
   ]
  },
  {
   "attachments": {},
   "cell_type": "markdown",
   "metadata": {},
   "source": [
    "پیاده سازی الگوریتم UCS"
   ]
  },
  {
   "cell_type": "code",
   "execution_count": 36,
   "metadata": {},
   "outputs": [],
   "source": [
    "def UCS(state, checker):\n",
    "    # same as A* without h(n)\n",
    "    exceeding_time = 120\n",
    "    start = time.perf_counter()\n",
    "    start_space = tracemalloc.start()\n",
    "    queue = [state]\n",
    "    visited = []\n",
    "    while queue:\n",
    "        time_passed = time.perf_counter()-start > exceeding_time\n",
    "        if time_passed:\n",
    "            print(\"Time limit exceeded!\\n\")\n",
    "            checker = 1\n",
    "            break\n",
    "        expanded = queue.pop(0)\n",
    "        if expanded == goal:\n",
    "            visited.append(expanded)\n",
    "            break\n",
    "        for x in expanded.children:\n",
    "            child = State(x)\n",
    "            child.parent = expanded\n",
    "            child.calculate_gn()\n",
    "            child.calculate_fn()\n",
    "            if child not in visited:\n",
    "                append_in_order(queue, child)\n",
    "                visited.append(child)\n",
    "    memory = tracemalloc.get_traced_memory()[1]\n",
    "    end_space = tracemalloc.stop()\n",
    "    end = time.perf_counter()\n",
    "    if checker == 0:\n",
    "        print(' Time:',(end-start),\"secs\")\n",
    "        print(' Memory:',memory,\"bytes\")\n",
    "    return visited"
   ]
  },
  {
   "attachments": {},
   "cell_type": "markdown",
   "metadata": {},
   "source": [
    "در انتها نحوه ورودی دادن به الگوریتم ها با توجه به حالات مختلف آورده شده است"
   ]
  },
  {
   "cell_type": "code",
   "execution_count": 31,
   "metadata": {},
   "outputs": [
    {
     "name": "stdout",
     "output_type": "stream",
     "text": [
      " Time: 0.014901900000040769 secs\n",
      " Memory: 4735927 bytes\n",
      " Steps = 4 \n",
      " [0, 1, 2, 4, 5, 3, 7, 8, 6] →, →, ↓, ↓\n"
     ]
    }
   ],
   "source": [
    "# Data produced after \"time limit exceeded!\" message is garbage.\n",
    "entry = State([0,1,2,4,5,3,7,8,6]) # to give one input at a time\n",
    "\n",
    "#find_route(IDS(entry), entry) # form of giving input to IDS (one input at a time)\n",
    "\n",
    "find_route(UCS(entry, 0), entry) #form of giving input to algorithms except IDS (one input at a time)\n",
    "\n",
    "\n",
    "#print_output(BFS) # for all algorithms except IDS (all inputs together)"
   ]
  },
  {
   "cell_type": "code",
   "execution_count": null,
   "metadata": {},
   "outputs": [],
   "source": []
  }
 ],
 "metadata": {
  "kernelspec": {
   "display_name": "qenv",
   "language": "python",
   "name": "python3"
  },
  "language_info": {
   "codemirror_mode": {
    "name": "ipython",
    "version": 3
   },
   "file_extension": ".py",
   "mimetype": "text/x-python",
   "name": "python",
   "nbconvert_exporter": "python",
   "pygments_lexer": "ipython3",
   "version": "3.8.0"
  },
  "orig_nbformat": 4,
  "vscode": {
   "interpreter": {
    "hash": "800875f8f0f937294d86d60837982cbcbc4eef87d6daae05d21b5c7802256f6e"
   }
  }
 },
 "nbformat": 4,
 "nbformat_minor": 2
}
